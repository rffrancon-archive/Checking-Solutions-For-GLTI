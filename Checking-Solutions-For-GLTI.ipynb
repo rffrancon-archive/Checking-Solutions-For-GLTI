{
 "cells": [
  {
   "cell_type": "markdown",
   "metadata": {},
   "source": [
    "<div id=\"header_wrap\" class=\"outer\">\n",
    "    <header class=\"inner\">\n",
    "      <h1 id=\"project_title\">Checking Finite Algebra Benchmark Solutions for the IGLTI and Modified ILTI Algorithms</h1>\n",
    "    </header>\n",
    "</div>\n",
    "\n",
    "<div style=\"padding-left:1em; padding-top:1em; padding-right:1em; padding-bottom:1em; border-style: solid; border-width: 5px; border-color: #212121;\">\n",
    "\n",
    "<div>\n",
    "    <div style=\"float:left;display:inline-block\">\n",
    "        <a href=\"http://robynffrancon.com\" target=\"_blank\">Robyn Ffrancon</a>\n",
    "    </div>\n",
    "    <div style=\"float:right; \">\n",
    "        <div style=\"\">rffrancon@gmail.com</div>\n",
    "    </div>\n",
    "</div>\n",
    "\n",
    "<h2 id='abstract' style=\"padding-bottom:1em; padding-top:1em\">Abstract</h2>\n",
    "In this notebook the solutions obtained when testing the Iterative Greedy Local Tree Improvement (<b>IGLTI</b>) and modified Iterative Local Tree Improvement (<b>ILTI</b>) algorithms on standard finite algebra benchmarks will be checked. These results were documented in <a href='#ffrancon_and_schoenauer_iglti'>[1]</a>.\n",
    "\n",
    "The benchmarks presented in this notebook have been studied and clearly defined in <a href='#lee_etal_2008'>[2]</a> and <a href='#krzysztof_and_oreilly_2014'>[3]</a>.\n",
    "</div>\n",
    "\n",
    "<h2 id='contents'>Contents</h2>\n",
    "1. <a href='#background'>Background</a>\n",
    "2. <a href='#defining-benchmarks'>Defining Benchmarks</a>\n",
    "3. <a href='#loading-data'>Loading Data</a>\n",
    "4. <a href='#checking-solutions'>Checking Solutions</a>\n",
    "5. <a href='#references'>References</a>\n",
    "\n",
    "<hr style=\"height:1px;border:none;color:#333;background-color:#333;\">"
   ]
  },
  {
   "cell_type": "markdown",
   "metadata": {},
   "source": [
    "<div style='display:inline-block;'><font>[^](#contents)</font></div><h2 style='display:inline-block;' id='background'>Background</h2>\n",
    "\n",
    "Solutions found using the IGLTI and modified ILTI algorithms were saved as their string representations, for example:\n",
    "<i>a1(a1(ARG2, ARG1), ARG2)</i>.\n",
    "\n",
    "They will be executed using Python's built-in <a href='https://docs.python.org/2/library/functions.html#eval' target=\"_blank\"><i>eval</i></a> function. The operator(s) (<i>a1</i> in the example above) and input variables (<i>ARG1</i> and <i>ARG2</i> in the example above) used within each solution will be defined within the global scope of the Python code. The values of the input variables will be changed for each fitness case."
   ]
  },
  {
   "cell_type": "markdown",
   "metadata": {},
   "source": [
    "<div style='display:inline-block;'><font>[^](#contents)</font></div><h2 style='display:inline-block;' id='defining-benchmarks'>Defining Benchmarks</h2>\n",
    "\n",
    "In the first part of this section, the <i>discriminator</i> term and <i>Mal'cev</i> term objective function are defined using Python:"
   ]
  },
  {
   "cell_type": "code",
   "execution_count": 1,
   "metadata": {
    "collapsed": false
   },
   "outputs": [],
   "source": [
    "def objective_func_discrim(input_pattern):\n",
    "    \"\"\"This is the objective function for the catagorical\n",
    "    discriminator term.\n",
    "\n",
    "    :param input_pattern: A single fitness test with three values.\n",
    "    :returns: The target output for the fitness test.\n",
    "    \"\"\"\n",
    "\n",
    "    x, y, z = input_pattern\n",
    "\n",
    "    if x != y:\n",
    "        return x\n",
    "    elif x == y:\n",
    "        return z\n",
    "\n",
    "    print('ERROR objective_func_discrim')\n",
    "    exit()\n",
    "\n",
    "def objective_func_malcev(input_pattern):\n",
    "    \"\"\"This is the objective function for the catagorical\n",
    "    Mal'cev term.\n",
    "\n",
    "    :param input_pattern: A single fitness test with three values.\n",
    "    :returns: The target output for the fitness test.\n",
    "    \"\"\"\n",
    "\n",
    "    if input_pattern[0] == input_pattern[1]:\n",
    "        return input_pattern[2]\n",
    "\n",
    "    elif input_pattern[1] == input_pattern[2]:\n",
    "        return input_pattern[0]\n",
    "\n",
    "    print('ERROR objective_func_malcev')\n",
    "    exit()"
   ]
  },
  {
   "cell_type": "markdown",
   "metadata": {},
   "source": [
    "Next, the finite algebra operators that were examined are defined as simple Python functions. The original definitions for these matrices were obtained from <a href='#lee_etal_2008'>[2]</a>."
   ]
  },
  {
   "cell_type": "code",
   "execution_count": 2,
   "metadata": {
    "collapsed": false
   },
   "outputs": [],
   "source": [
    "def a1(b, c):\n",
    "    return [\n",
    "        [2, 1, 2],\n",
    "        [1, 0, 0],\n",
    "        [0, 0, 1]\n",
    "    ][b][c]\n",
    "\n",
    "def a2(b, c):\n",
    "    return [\n",
    "        [2, 0, 2],\n",
    "        [1, 0, 2],\n",
    "        [1, 2, 1]\n",
    "    ][b][c]\n",
    "\n",
    "def a3(b, c):\n",
    "    return [\n",
    "        [1, 0, 1],\n",
    "        [1, 2, 0],\n",
    "        [0, 0, 0]\n",
    "    ][b][c]\n",
    "\n",
    "def a4(b, c):\n",
    "    return [\n",
    "        [1, 0, 1],\n",
    "        [0, 2, 0],\n",
    "        [0, 1, 0]\n",
    "    ][b][c]\n",
    "\n",
    "def a5(b, c):\n",
    "    return [\n",
    "        [1, 0, 2],\n",
    "        [1, 2, 0],\n",
    "        [0, 1, 0]\n",
    "    ][b][c]"
   ]
  },
  {
   "cell_type": "markdown",
   "metadata": {},
   "source": [
    "<div style='display:inline-block;'><font>[^](#contents)</font></div><h2 style='display:inline-block;' id='loading-data'>Loading Data</h2>\n",
    "\n",
    "At this point, it is necassary to define a function for loading the solutions which have been previously saved. There are three different sets of solutions, one for each scheme that was tested: ILTI, IGLTI (depth 3), and IGLTI (depth 2). Each of these three schemes are detailed in <a href='#ffrancon_and_schoenauer_iglti'>[1]</a>. The solutions obtained for each scheme are stored in three separate directories.\n",
    "\n",
    "Given a scheme directory and a benchmark name, the function <i>get_solutions</i> loads the corresponding <a href='https://docs.python.org/2/library/pickle.html' target=\"_blank\">pickled</a> solutions file. It also extracts and returns the string representations of the solution programs."
   ]
  },
  {
   "cell_type": "code",
   "execution_count": 3,
   "metadata": {
    "collapsed": false
   },
   "outputs": [],
   "source": [
    "import itertools\n",
    "\n",
    "from os import listdir\n",
    "from os.path import isfile, join\n",
    "\n",
    "import pickle\n",
    "\n",
    "def get_solutions(benchmark_name, scheme_dir):\n",
    "    # get all file names in base_path directory\n",
    "    fnames = [f for f in listdir(scheme_dir) if isfile(join(scheme_dir, f))]\n",
    "    \n",
    "    # find the right file given the benchmark\n",
    "    found_fname = None\n",
    "    for fname in fnames:\n",
    "        if fname.find(benchmark_name) != -1:\n",
    "            found_fname = fname\n",
    "            break\n",
    "    \n",
    "    # load solutions data file\n",
    "    solutions = pickle.load(open(scheme_dir + found_fname, 'rb'))\n",
    "    \n",
    "    # collect final solution program trees as strings\n",
    "    solution_programs = [solution['tree_str'] for solution in solutions]\n",
    "    return solution_programs"
   ]
  },
  {
   "cell_type": "markdown",
   "metadata": {},
   "source": [
    "<div style='display:inline-block;'><font>[^](#contents)</font></div><h2 style='display:inline-block;' id='checking-solutions'>Checking Solutions</h2>\n",
    "\n",
    "The first function in this section calculates all of the input patterns for a given benchmark:"
   ]
  },
  {
   "cell_type": "code",
   "execution_count": 4,
   "metadata": {
    "collapsed": false
   },
   "outputs": [],
   "source": [
    "def gen_input_patterns(benchmark_name):\n",
    "    if benchmark_name in ['D_A1', 'D_A2', 'D_A3', 'D_A4', 'D_A5']:\n",
    "        input_patterns = [list(seq) for seq in itertools.product([0, 1, 2], repeat=3)]\n",
    "    \n",
    "    elif benchmark_name in ['M_A1', 'M_A2', 'M_A3', 'M_A4', 'M_A5']:\n",
    "            temp = [list(seq) for seq in itertools.product([0, 1], repeat=3)]\n",
    "            temp += [list(seq) for seq in itertools.product([0, 2], repeat=3)]\n",
    "            temp += [list(seq) for seq in itertools.product([1, 2], repeat=3)]\n",
    "\n",
    "            input_patterns = []\n",
    "            for inp in temp:\n",
    "                if (inp[0] == inp[2]) and (inp[1] != inp[0]):\n",
    "                    continue\n",
    "                if inp in input_patterns:\n",
    "                    continue\n",
    "                input_patterns.append(inp)\n",
    "                \n",
    "    return input_patterns"
   ]
  },
  {
   "cell_type": "markdown",
   "metadata": {},
   "source": [
    "Given a potential solution and input patterns, <i>eval_solution</i> calculates its output values."
   ]
  },
  {
   "cell_type": "code",
   "execution_count": 5,
   "metadata": {
    "collapsed": false
   },
   "outputs": [],
   "source": [
    "def eval_solution(solution, input_pattern):\n",
    "    # define arguments\n",
    "    for i_bit, bit_val in enumerate(input_pattern):\n",
    "        globals()['ARG' + str(i_bit)] = bit_val\n",
    "    \n",
    "    # evaluate solution\n",
    "    return eval(solution)"
   ]
  },
  {
   "cell_type": "markdown",
   "metadata": {},
   "source": [
    "The function <i>test_solutions</i> examines the validity of a set of solutions. It returns a list of True or False values which indicate the validity of each solution."
   ]
  },
  {
   "cell_type": "code",
   "execution_count": 6,
   "metadata": {
    "collapsed": false
   },
   "outputs": [],
   "source": [
    "def test_solutions(solutions, input_patterns, target_outputs):\n",
    "    \n",
    "    results = []\n",
    "    for solution in solutions:\n",
    "        solution_outputs = [eval_solution(solution, input_pattern) \n",
    "                            for input_pattern in input_patterns]\n",
    "\n",
    "        for solution_output, target_output in zip(solution_outputs, target_outputs):\n",
    "            if solution_output != target_output:\n",
    "                results.append(False)\n",
    "                break\n",
    "                \n",
    "        results.append(True)\n",
    "\n",
    "    return results"
   ]
  },
  {
   "cell_type": "markdown",
   "metadata": {},
   "source": [
    "Given a scheme directory, the <i>check_scheme_results</i> function, examines the validity of each solution for each benchmark."
   ]
  },
  {
   "cell_type": "code",
   "execution_count": 7,
   "metadata": {
    "collapsed": false
   },
   "outputs": [],
   "source": [
    "def check_scheme_results(scheme_dir):\n",
    "    benchmark_names = ['D_A1', 'D_A2', 'D_A3', 'D_A4', 'D_A5', \n",
    "                       'M_A1', 'M_A2', 'M_A3', 'M_A4', 'M_A5']\n",
    "\n",
    "    all_results = []\n",
    "    for benchmark_name in benchmark_names:\n",
    "        # get solutions\n",
    "        solutions = get_solutions(benchmark_name, scheme_dir)\n",
    "    \n",
    "        # generate input patterns\n",
    "        input_patterns = gen_input_patterns(benchmark_name)\n",
    "    \n",
    "        # chose objective function\n",
    "        if benchmark_name in ['D_A1', 'D_A2', 'D_A3', 'D_A4', 'D_A5']:\n",
    "            objective_func = objective_func_discrim\n",
    "        elif benchmark_name in ['M_A1', 'M_A2', 'M_A3', 'M_A4', 'M_A5']:\n",
    "            objective_func = objective_func_malcev\n",
    "        \n",
    "        # get target outputs\n",
    "        target_outputs = [objective_func(input_pattern)\n",
    "            for input_pattern in input_patterns]\n",
    "    \n",
    "        # test solutions\n",
    "        benchmark_results = test_solutions(solutions, input_patterns, target_outputs)\n",
    "        all_results += benchmark_results\n",
    "        \n",
    "    return all_results"
   ]
  },
  {
   "cell_type": "markdown",
   "metadata": {},
   "source": [
    "The remaining code makes use of all of the above code to evaluate the validity of each solution obtained using each scheme."
   ]
  },
  {
   "cell_type": "code",
   "execution_count": 8,
   "metadata": {
    "collapsed": false,
    "scrolled": false
   },
   "outputs": [
    {
     "name": "stdout",
     "output_type": "stream",
     "text": [
      "Scheme:  finite_algebra_solutions_ILTI\n",
      "Number of results: 200\n",
      "all results correct\n",
      "\n",
      "Scheme:  finite_algebra_solutions_IGLTI_depth3\n",
      "Number of results: 200\n",
      "all results correct\n",
      "\n",
      "Scheme:  finite_algebra_solutions_IGLTI_depth2\n",
      "Number of results: 200\n",
      "all results correct\n",
      "\n"
     ]
    }
   ],
   "source": [
    "scheme_names = ['finite_algebra_solutions_ILTI', \n",
    "                'finite_algebra_solutions_IGLTI_depth3', \n",
    "                'finite_algebra_solutions_IGLTI_depth2']\n",
    "\n",
    "for scheme_name in scheme_names:\n",
    "    all_results = check_scheme_results(scheme_name + '/')\n",
    "    \n",
    "    print('Scheme: ', scheme_name)\n",
    "    print('Number of results:', len(all_results))\n",
    "    \n",
    "    if False in all_results:\n",
    "        print('one or more False solutions')\n",
    "    else:\n",
    "        print('all results correct')\n",
    "    \n",
    "    print('')"
   ]
  },
  {
   "cell_type": "markdown",
   "metadata": {},
   "source": [
    "<hr style=\"height:1px;border:none;color:#333;background-color:#333;\">\n",
    "<div style='display:inline-block;'><font>[^](#contents)</font></div><h2 style='display:inline-block;' id='acknowledgements'>Acknowledgements</h2>\n",
    "\n",
    "I wish to thank <a href=\"https://www.lri.fr/~marc/\" target=\"_blank\">Marc Schoenauer</a> for interesting discussions and excellent supervision during my 6 month masters internship at INRIA, Paris, France where this work was conducted."
   ]
  },
  {
   "cell_type": "markdown",
   "metadata": {},
   "source": [
    "<div style='display:inline-block;'><font>[^](#contents)</font></div><h3 style='display:inline-block;' id='references'>References</h3>\n",
    "\n",
    "<a href='http://robynffrancon.com/Greedy%20Semantic%20Local%20Search%20for%20Small%20Solutions.pdf' target=\"_blank\" id='ffrancon_and_schoenauer_iglti'>1.</a> Ffrancon, Robyn, and Marc Schoenauer. \"Greedy Semantic Local Search for Small Solutions.\", Semantic Methods in Genetic Programming Workshop, GECCO 2015.\n",
    "\n",
    "<a href='http://dl.acm.org/citation.cfm?id=1389343' target=\"_blank\" id='lee_etal_2008'>2.</a> Spector, Lee, et al. \"Genetic programming for finite algebras.\" Proceedings of the 10th annual conference on Genetic and evolutionary computation. ACM, 2008.\n",
    "\n",
    "<a href='http://dl.acm.org/citation.cfm?id=2598288' target=\"_blank\" id='krzysztof_and_oreilly_2014'>3.</a> Krawiec, Krzysztof, and Una-May O'Reilly. \"Behavioral programming: a broader and more detailed take on semantic GP.\" Proceedings of the 2014 conference on Genetic and evolutionary computation. ACM, 2014."
   ]
  },
  {
   "cell_type": "code",
   "execution_count": 9,
   "metadata": {
    "collapsed": false
   },
   "outputs": [
    {
     "data": {
      "text/html": [
       "<style>\n",
       "    @font-face {\n",
       "        font-family: \"Computer Modern\";\n",
       "        src: url('http://9dbb143991406a7c655e-aa5fcb0a5a4ec34cff238a2d56ca4144.r56.cf5.rackcdn.com/cmunss.otf');\n",
       "    }\n",
       "    @font-face {\n",
       "        font-family: \"Computer Modern\";\n",
       "        font-weight: bold;\n",
       "        src: url('http://9dbb143991406a7c655e-aa5fcb0a5a4ec34cff238a2d56ca4144.r56.cf5.rackcdn.com/cmunsx.otf');\n",
       "    }\n",
       "    @font-face {\n",
       "        font-family: \"Computer Modern\";\n",
       "        font-style: oblique;\n",
       "        src: url('http://9dbb143991406a7c655e-aa5fcb0a5a4ec34cff238a2d56ca4144.r56.cf5.rackcdn.com/cmunsi.otf');\n",
       "    }\n",
       "    @font-face {\n",
       "        font-family: \"Computer Modern\";\n",
       "        font-weight: bold;\n",
       "        font-style: oblique;\n",
       "        src: url('http://9dbb143991406a7c655e-aa5fcb0a5a4ec34cff238a2d56ca4144.r56.cf5.rackcdn.com/cmunso.otf');\n",
       "    }\n",
       "    div.cell{\n",
       "        width:800px;\n",
       "        margin-left:16% !important;\n",
       "        margin-right:auto;\n",
       "    }\n",
       "\n",
       "    /*\n",
       "    h1 {\n",
       "        font-family: Helvetica, serif;\n",
       "    }\n",
       "    h4{\n",
       "        margin-top:12px;\n",
       "        margin-bottom: 3px;\n",
       "       }\n",
       "    */\n",
       "\n",
       "    h1, h2, h3, h4, h5, h6 {\n",
       "      margin: 10px 0;\n",
       "      font-weight: 700;\n",
       "      color:#222222;\n",
       "      font-family: 'Lucida Grande', 'Calibri', Helvetica, Arial, sans-serif;\n",
       "      letter-spacing: -1px;\n",
       "    }\n",
       "\n",
       "    h1 {\n",
       "      font-size: 36px;\n",
       "      font-weight: 700;\n",
       "    }\n",
       "\n",
       "    .outer {\n",
       "        width: 100%;\n",
       "    }\n",
       "\n",
       "    .inner {\n",
       "      position: relative;\n",
       "      max-width: 700px;\n",
       "      padding: 20px 10px;\n",
       "      margin: 0 auto;\n",
       "    }\n",
       "\n",
       "    #header_wrap {\n",
       "      background: #212121;\n",
       "      background: -moz-linear-gradient(top, #373737, #212121);\n",
       "      background: -webkit-linear-gradient(top, #373737, #212121);\n",
       "      background: -ms-linear-gradient(top, #373737, #212121);\n",
       "      background: -o-linear-gradient(top, #373737, #212121);\n",
       "      background: linear-gradient(top, #373737, #212121);\n",
       "    }\n",
       "\n",
       "    #header_wrap .inner {\n",
       "      padding: 50px 10px 30px 10px;\n",
       "    }\n",
       "\n",
       "    #project_title {\n",
       "      margin: 20px 0px;\n",
       "      color: #fff;\n",
       "      font-size: 42px;\n",
       "      font-weight: 700;\n",
       "      text-shadow: #111 0px 0px 10px;\n",
       "      font-family: 'Computer Modern';\n",
       "    }\n",
       "\n",
       "    div.text_cell_render{\n",
       "        font-family: Computer Modern, \"Helvetica Neue\", Arial, Helvetica, Geneva, sans-serif;\n",
       "        line-height: 145%;\n",
       "        font-size: 130%;\n",
       "        width:800px;\n",
       "        margin-left:auto;\n",
       "        margin-right:auto;\n",
       "    }\n",
       "    .CodeMirror{\n",
       "            font-family: \"Source Code Pro\", source-code-pro,Consolas, monospace;\n",
       "    }\n",
       "    .prompt{\n",
       "        display: None;\n",
       "    }\n",
       "    .text_cell_render h5 {\n",
       "        font-weight: 300;\n",
       "        font-size: 22pt;\n",
       "        color: #4057A1;\n",
       "        font-style: italic;\n",
       "        margin-bottom: .5em;\n",
       "        margin-top: 0.5em;\n",
       "        display: block;\n",
       "    }\n",
       "    \n",
       "    .warning{\n",
       "        color: rgb( 240, 20, 20 )\n",
       "        }  \n",
       "</style>\n",
       "<script>\n",
       "    MathJax.Hub.Config({\n",
       "                        TeX: {\n",
       "                           extensions: [\"AMSmath.js\"]\n",
       "                           },\n",
       "                tex2jax: {\n",
       "                    inlineMath: [ ['$','$'], [\"\\\\(\",\"\\\\)\"] ],\n",
       "                    displayMath: [ ['$$','$$'], [\"\\\\[\",\"\\\\]\"] ]\n",
       "                },\n",
       "                displayAlign: 'center', // Change this to 'center' to center equations.\n",
       "                \"HTML-CSS\": {\n",
       "                    styles: {'.MathJax_Display': {\"margin\": 4}}\n",
       "                }\n",
       "        });\n",
       "</script>\n"
      ],
      "text/plain": [
       "<IPython.core.display.HTML object>"
      ]
     },
     "execution_count": 9,
     "metadata": {},
     "output_type": "execute_result"
    }
   ],
   "source": [
    "# sets the Notebook style\n",
    "# css style sheet obtained from: https://github.com/CamDavidsonPilon/Probabilistic-Programming-and-Bayesian-Methods-for-Hackers\n",
    "from IPython.core.display import HTML\n",
    "\n",
    "def css_styling():\n",
    "    styles = open(\"styles/custom.css\", \"r\").read()\n",
    "    return HTML(styles)\n",
    "css_styling()"
   ]
  }
 ],
 "metadata": {
  "kernelspec": {
   "display_name": "Python 3",
   "language": "python",
   "name": "python3"
  },
  "language_info": {
   "codemirror_mode": {
    "name": "ipython",
    "version": 3
   },
   "file_extension": ".py",
   "mimetype": "text/x-python",
   "name": "python",
   "nbconvert_exporter": "python",
   "pygments_lexer": "ipython3",
   "version": "3.4.0"
  }
 },
 "nbformat": 4,
 "nbformat_minor": 0
}
